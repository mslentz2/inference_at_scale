{
 "cells": [
  {
   "cell_type": "markdown",
   "metadata": {},
   "source": [
    "# Practice Using an LLM to Chunk and Summarize Data"
   ]
  },
  {
   "cell_type": "code",
   "execution_count": 26,
   "metadata": {},
   "outputs": [],
   "source": [
    "from langchain_openai import AzureOpenAI\n",
    "from langchain_openai import AzureChatOpenAI\n",
    "from langchain_core.output_parsers import StrOutputParser\n",
    "from langchain_core.prompts import ChatPromptTemplate\n",
    "from langchain_core.runnables import RunnablePassthrough\n",
    "from langchain_core.output_parsers import SimpleJsonOutputParser\n",
    "from langchain_core.pydantic_v1 import BaseModel, Field\n",
    "from langchain.prompts import PromptTemplate\n",
    "from langchain.text_splitter import RecursiveCharacterTextSplitter\n",
    "from langchain.document_loaders import PyPDFLoader\n",
    "\n",
    "from azure.identity import (\n",
    "    DefaultAzureCredential,\n",
    ")\n",
    "\n",
    "from azure.identity import AzureAuthorityHosts\n",
    "from azure.keyvault.secrets import SecretClient\n",
    "\n",
    "from dotenv import load_dotenv\n",
    "import json\n",
    "import tiktoken\n",
    "import os"
   ]
  },
  {
   "cell_type": "markdown",
   "metadata": {},
   "source": [
    "### Create your Azure OpenAI Resource\n",
    "\n",
    "_If you have your resource from the last exercise, you don't need to complete the following steps._ \n",
    "\n",
    "Navigate to the [Azure Portal](https://portal.azure.com/#home) or [US Gov Azure Portal](https://portal.azure.us/#home) and login using your account. Next you're going to create an Azure OpenAI resource, create a new resource group and use any unique name for the resource's name.  \n",
    "Once the resource is created, you need to open [Azure AI Foundry](https://ai.azure.com/) or [Azure OpenAI Studio](https://ai.azure.us/) to deploy the model. Navigate to deployments, press deploy model and select gpt-35-turbo-instruct.  Make sure to increase your rate limit, or tokens per minute (around 700k should be sufficient)."
   ]
  },
  {
   "cell_type": "code",
   "execution_count": 27,
   "metadata": {},
   "outputs": [],
   "source": [
    "load_dotenv()\n",
    "\n",
    "credential = DefaultAzureCredential(authority=AzureAuthorityHosts.AZURE_GOVERNMENT)\n",
    "\n",
    "secret_client = SecretClient(vault_url=os.getenv('KEY_VAULT_URL'), credential=credential)\n",
    "deployment = os.getenv('DEPLOYMENT')\n",
    "endpoint_url = os.getenv('AZURE_OPENAI_ENDPOINT')\n",
    "api_version = os.getenv('API_VERSION')\n",
    "api_key = secret_client.get_secret(os.getenv('SECRET_NAME')).value\n",
    "\n",
    "\n",
    "azure_client = AzureChatOpenAI(\n",
    "                api_key=api_key\n",
    "                ,api_version=api_version\n",
    "                ,azure_endpoint=endpoint_url\n",
    "                ,deployment_name=deployment\n",
    "                ,temperature=0\n",
    "                ,max_tokens=4000\n",
    "                ,model_kwargs={\"response_format\": {\"type\": \"json_object\"}}\n",
    ")"
   ]
  },
  {
   "cell_type": "markdown",
   "metadata": {},
   "source": [
    "### Our Data\n",
    "\n",
    "The lotr.pdf is the complete _Lord of the Rings_ novel written by J.R.R. Tolkien. In this exercise, we are going to ingest the prologue and chunk out the data by using an LLM to get the most important pieces of information in the text.  \n",
    "### What is MapReduce?\n",
    "\n",
    "MapReduce is an algorithmic approach that solves a problem by recursively solving the same problem at a smaller scale (the map step) and then combining the solutions to solve the original problem (the reduce step). There are 2 main steps, mapping and reducing, as made clear from its name.  \n",
    "\n",
    "**Map Step:**\n",
    "* Break down the long text into smaller chunks\n",
    "* Generate individual summaries for each chunk using an LLM\n",
    "* This step is typically parallelized over the input chunks 2  \n",
    "\n",
    "**Reduce Step:**\n",
    "* Combine the individual summaries generated in the Map step\n",
    "* Create a single cohesive summary that captures key points from all chunks"
   ]
  },
  {
   "cell_type": "code",
   "execution_count": 28,
   "metadata": {},
   "outputs": [],
   "source": [
    "loader = PyPDFLoader(\"data/lotr.pdf\")\n",
    "\n",
    "pages = loader.load_and_split()"
   ]
  },
  {
   "cell_type": "markdown",
   "metadata": {},
   "source": [
    "### Tiktoken\n",
    "\n",
    "Tiktoken is a fast BPE (Byte Pair Encoding) tokenizer developed by OpenAI to use with their models. Some of its key features is that it has reversible and lossless conversion of text to tokens and works on arbitrary text.  \n",
    "  \n",
    "Here, we are creating a method, `num_tokens_from_string` to return the number of tokens from a string, using the cl100k_base encoding from the OpenAI library, along with tiktoken's functionality.  \n",
    "\n",
    "We ended up splitting the text into 28 chunks, to then run through the LLM. "
   ]
  },
  {
   "cell_type": "code",
   "execution_count": 29,
   "metadata": {},
   "outputs": [],
   "source": [
    "def num_tokens_from_string(string: str, encoding_name: str = \"cl100k_base\") -> int:\n",
    "    \"\"\"Returns the number of tokens in a text string.\"\"\"\n",
    "    encoding = tiktoken.get_encoding(encoding_name)\n",
    "    num_tokens = len(encoding.encode(string))\n",
    "    return num_tokens"
   ]
  },
  {
   "cell_type": "code",
   "execution_count": 30,
   "metadata": {},
   "outputs": [],
   "source": [
    "prologue_pages = pages[24:39]\n",
    "# Python for loop in one line\n",
    "prologue_text = ''\n",
    "for page in prologue_pages : prologue_text += page.page_content"
   ]
  },
  {
   "cell_type": "code",
   "execution_count": 31,
   "metadata": {},
   "outputs": [
    {
     "name": "stdout",
     "output_type": "stream",
     "text": [
      "28\n"
     ]
    }
   ],
   "source": [
    "text_splitter = RecursiveCharacterTextSplitter(\n",
    "    # Set a really small chunk size, for demonstration\n",
    "    chunk_size = 1500,\n",
    "    chunk_overlap  = 150\n",
    ")\n",
    "\n",
    "docs = text_splitter.create_documents([prologue_text])\n",
    "print(len(docs))"
   ]
  },
  {
   "cell_type": "markdown",
   "metadata": {},
   "source": [
    "### The Map Step\n",
    "\n",
    "Above, we did the first part of the Map step which is to break the text down into smaller chunks. Now, we are going to use the LLM to pull out themes (or summaries) from each chunk. "
   ]
  },
  {
   "cell_type": "code",
   "execution_count": 32,
   "metadata": {},
   "outputs": [],
   "source": [
    "output_parser = StrOutputParser()\n",
    "#output_parser = JsonOutputParser(pydantic_object=Theme)\n",
    "prompt = PromptTemplate(\n",
    "    template=\"Identify the most important themes covered in the following text.  Take all information from the text only.  If a piece of information is not in the text, do not include it.  Results format: <theme>: <detailed summary of text that supports the theme in narrative form.>}}] :\\n {text}\",\n",
    "    input_variables=[\"text\"],\n",
    "\n",
    ")\n",
    "\n",
    "responses = []\n",
    "for doc in docs:\n",
    "    chain = (\n",
    "    {\"text\": RunnablePassthrough()} \n",
    "        | prompt\n",
    "        | azure_client\n",
    "        | output_parser\n",
    "    )\n",
    "\n",
    "    responses.append(chain.invoke(doc.page_content).replace('\"','\\''))\n",
    "\n"
   ]
  },
  {
   "cell_type": "code",
   "execution_count": 33,
   "metadata": {},
   "outputs": [
    {
     "name": "stdout",
     "output_type": "stream",
     "text": [
      "mingled with the other kinds that had preceded them, but being \n",
      "somewhat bolder and more adventurous, they were often found as \n",
      "leaders or chieftains among clans of Harfoots or Stoors. Even in \n",
      "Bilbo’s time the strong Fallohidish strain could still be noted among4 TH E L ORD OF THE RI NGS \n",
      "the greater families, such as the Tooks and the Masters of Buckland. \n",
      "In the westlands of Eriador, between the Misty Mountains and \n",
      "the Mountains of Lune, the Hobbits found both Men and Elves. \n",
      "Indeed, a remnant still dwelt there of the Du´nedain, the kings of \n",
      "Men that came over the Sea out of Westernesse; but they were dwin-\n",
      "dling fast and the lands of their North Kingdom were falling far and \n",
      "wide into waste. There was room and to spare for incomers, and ere \n",
      "long the Hobbits began to settle in ordered communities. Most of \n",
      "their earlier settlements had long disappeared and been forgotten in \n",
      "Bilbo’s time; but one of the ﬁrst to become important still endured, \n",
      "though reduced in size; this was at Bree and in the Chetwood that \n",
      "lay round about, some forty miles east of the Shire. \n",
      "It was in these early days, doubtless, that the Hobbits learned their \n",
      "letters and began to write after the manner of the Du´nedain, who \n",
      "had in their turn long before learned the art from the Elves. And in \n",
      "those days also they forgot whatever languages they had used before, \n",
      "and spoke ever after the Common Speech, the Westron as it was \n",
      "named, that was current through all the lands of the kings from Arnor\n",
      "1. **Cultural Integration and Evolution**: The text discusses how Hobbits, particularly those with a strong Fallohidish strain, became leaders among other clans like the Harfoots and Stoors. This indicates a blending of cultures and the evolution of Hobbit society, where bolder individuals emerged as chieftains, showcasing the dynamic nature of their social structure.\n",
      "\n",
      "2. **Historical Context of the Hobbits**: The narrative provides a historical backdrop of the Hobbits' settlement in Eriador, highlighting their interactions with Men and Elves. It mentions the dwindling presence of the Du´nedain, the kings of Men, and the impact of their decline on the surrounding lands, which created opportunities for the Hobbits to establish their communities.\n",
      "\n",
      "3. **Language and Literacy Development**: The text notes that during their early days, Hobbits learned to write and adopted the Common Speech, or Westron, from the Du´nedain, who had originally learned it from the Elves. This reflects the importance of language and literacy in the development of Hobbit identity and culture, as they moved away from their previous languages.\n",
      "\n",
      "4. **Geographical Settlements**: The mention of specific locations, such as Bree and the Chetwood, illustrates the geographical aspect of Hobbit settlements. It indicates that while many early settlements faded into obscurity, some, like Bree, remained significant, albeit reduced in size, emphasizing the changing landscape of Hobbit habitation over time.\n"
     ]
    }
   ],
   "source": [
    "print(docs[2].page_content)\n",
    "print(responses[2])\n"
   ]
  },
  {
   "cell_type": "markdown",
   "metadata": {},
   "source": [
    "### The Reduce Step\n",
    "\n",
    "Here, we are taking the themes the LLM generated and prompting the LLM to make summaries from these themes."
   ]
  },
  {
   "cell_type": "code",
   "execution_count": 42,
   "metadata": {},
   "outputs": [],
   "source": [
    "reduce_prompt_text = \"\"\"\n",
    "### Instructions:\n",
    "Below is a collection of themes and supporting text summarize the all of supporting text in narrative form as if telling a story. \n",
    "Your summary will be added to other summaries so do not give an introduction to the summary, assume the reader has context for what you are telling them. \n",
    "Do not include the theme title in the summary.\n",
    "\n",
    "### Output Key and Value JSON\n",
    "{{\"text\": \"<summary of supporting text>\"}}\n",
    "### Themes and Supporting Text:\n",
    "{text}\"\n",
    "\"\"\""
   ]
  },
  {
   "cell_type": "code",
   "execution_count": 43,
   "metadata": {},
   "outputs": [
    {
     "name": "stdout",
     "output_type": "stream",
     "text": [
      "{\"text\": \"In the early days of their existence, Hobbits began to document their history after settling in the Shire, though their legends hint at a time long before, when they inhabited the upper vales of Anduin. This rich tapestry of history suggests a westward migration and a deep-rooted connection to other races, including Elves, Dwarves, and Men. As they settled into their new home, Hobbits naturally divided into three distinct breeds: the Harfoots, Stoors, and Fallohides. Each breed exhibited unique physical traits and preferred different terrains, showcasing the diversity within their culture and their ability to adapt to various environments. However, as time passed, external pressures began to influence their way of life. The increasing presence of Men and the encroaching darkness of the forest, which would later be known as Mirkwood, prompted the Hobbits to migrate across the mountains into Eriador, marking a significant chapter in their ongoing story.\"} {\"text\": \"In a land where Hobbits thrived, three distinct varieties emerged, each with their own unique traits and preferences. The Stoors, broad and heavyset, were known for their large feet and hands, favoring the flat lands and riversides where they felt most at home. In contrast, the Fallohides stood taller and slimmer, their fair skin and hair reflecting their affinity for the woodlands and trees. The Harfoots, the most common of the three, were characterized by their tendency to settle in one place, often living in cozy tunnels and holes, a testament to their ancestral habits. \\n\\nAs time passed, these Hobbit varieties followed different paths across the land. The Harfoots roamed over Eriador, eventually settling in the foothills of the mountains, while the Stoors lingered by the Great River Anduin, gradually moving westward after the Harfoots. The Fallohides, the least numerous, ventured across the mountains, mingling with other Hobbit kinds in Eriador, showcasing their adventurous spirit. \\n\\nCulturally, the Hobbits interacted with other races in unique ways. The Harfoots formed significant bonds with Dwarves in ancient times, while the Fallohides found camaraderie with Elves, excelling in language and song rather than handicrafts. Their preference for hunting over agriculture set them apart, highlighting the rich tapestry of Hobbit life and their diverse interactions with the world around them.\"} {\"text\": \"In the evolving tapestry of Hobbit society, those with a strong Fallohidish lineage emerged as leaders among the various clans, such as the Harfoots and Stoors, showcasing a rich blend of cultures and a dynamic social structure. As the Hobbits settled in Eriador, they interacted with Men and Elves, navigating a historical landscape marked by the decline of the Du´nedain, the once-mighty kings of Men. This decline opened doors for the Hobbits to establish their own communities, shaping their identity in the process. During these formative years, they adopted the Common Speech, or Westron, learning to write and moving away from their ancestral languages, which played a crucial role in their cultural development. Geographically, their settlements varied, with places like Bree and the Chetwood standing out; while many early settlements faded into obscurity, Bree remained a significant, albeit smaller, hub, reflecting the changing nature of Hobbit habitation over time.\"} {\"text\": \"As the Hobbits embraced the Common Speech known as Westron, they found themselves woven into the rich tapestry of the cultures ruled by the kings from Arnor to Gondor. Yet, even as they integrated, they held onto their unique linguistic heritage, preserving personal names and terms for days and months, which reflected their distinct cultural identity. This period marked a significant turning point in Hobbit history, where the legends of old began to be recorded, particularly with the establishment of the Shire-reckoning. The crossing of the Baranduin River by the Fallohide brothers, Marcho and Blanco, was a momentous event that laid the groundwork for the Shire, a place that would become central to Hobbit lore. Their acquisition of land beyond the river, granted by the high king at Fornost, highlighted the themes of land ownership and governance, as the Hobbits took on the responsibilities of maintaining their new home while acknowledging the authority of the king. This new land quickly became a source of deep affection for the Hobbits, symbolizing their sense of belonging and identity. The Shire emerged as a distinct community, marking the beginning of a vibrant chapter in Hobbit history, where they would flourish and cultivate their own culture, separate from the legacies of Men.\"} {\"text\": \"In a secluded corner of the world, the western Hobbits discovered a land that captivated their hearts, prompting them to settle and withdraw from the tumultuous histories of Men and Elves. Though they were technically subjects of a distant king, they chose to govern themselves, establishing their own leadership through the election of a Thain after the fall of the North Kingdom. This desire for autonomy marked a significant shift in their identity, as they distanced themselves from external conflicts and focused on their own community. The historical backdrop reveals the decline of the Northern line, with the last king, Argeleb II, and the end of the North Kingdom under Arvedui, highlighting the Hobbits' unnoticed yet pivotal role in the last battle at Fornost. As the external powers waned, the Hobbits thrived, experiencing a period of prosperity following the Dark Plague, which had once threatened their existence. Yet, their journey was not without adversity; they faced the harsh realities of the Long Winter and a devastating famine that claimed many lives. Despite these challenges, the resilience of the Hobbits shone through as they eventually returned to a state of abundance. Their connection to the land was profound, as they nurtured and cherished the rich, kindly soil that had once been deserted. This stewardship not only shaped their way of life but also solidified their identity, intertwining their fate with the land they called home.\"} {\"text\": \"In a land once flourishing with well-tended farms, cornlands, vineyards, and woods, the Shire stood as a testament to the richness and fertility that shaped the lives of its Hobbit inhabitants. This abundance fostered a sense of peace and plenty, leading the Hobbits to live in a sheltered existence, blissfully unaware of the dangers lurking beyond their borders. Their isolation bred a complacency, as they came to believe that their tranquil way of life was the natural order of the world. Yet, in their contentment, they had forgotten the sacrifices made by the Guardians who once fought to secure their safety, resulting in a historical amnesia that disconnected them from the struggles that had paved the way for their current peace. The Hobbits, known for their non-warlike nature, had never engaged in conflict among themselves, with the last battle a distant memory, reinforcing their identity as a peaceful folk amidst a world that was anything but.\"} {\"text\": \"In the distant past, the Battle of Greenfields marked a pivotal moment for the Shire, where Bandobras Took valiantly defended his home against an Orc invasion in S.R. 1147. This event, now beyond living memory, has left an indelible mark on the Shire, transforming it from a land of conflict to one of tranquility, as evidenced by the milder weather and the fading tales of wolves from the North. The Hobbits, with their unique cultural practice of collecting 'mathoms'—items they no longer need—demonstrate a deep appreciation for their history, often leading to cluttered homes filled with sentimental treasures. The Mathom-house stands as a testament to their values, showcasing their reluctance to part with the past. Yet, beneath this peaceful exterior lies a remarkable resilience; the Hobbits are not easily daunted or defeated, revealing a strength that belies their simple lives. Their connection to nature is profound, particularly through their archery skills, which reflect their harmony with the environment and their readiness to defend their home when necessary. Thus, the Shire's inhabitants embody a blend of historical legacy, cultural richness, and an enduring spirit.\"} {\"text\": \"Hobbits have long been known for their unique way of life, traditionally favoring homes that are burrowed into the ground. While this practice has diminished over time, with only the wealthiest and poorest maintaining the old custom, the essence of Hobbit living remains deeply tied to their distinctive dwellings. The affluent Hobbits have transformed their burrows into luxurious abodes, while those with less means continue to inhabit simpler, more primitive holes. As their population expanded, Hobbits began to adapt to their changing environment, constructing above-ground homes in response to the need for more space, particularly in the flat and low-lying areas of the Shire. This evolution is evident in places like Hobbiton and Michel Delving, where wooden, brick, and stone houses have emerged, showcasing a blend of new living styles with traditional elements. The social structure within Hobbit society is also reflected in their occupations, as certain trades such as millers, smiths, ropers, and cartwrights have gravitated towards above-ground houses, highlighting a division of labor that fosters a vibrant community. This interconnectedness illustrates how different occupations shape living arrangements and contribute to the rich tapestry of Hobbit life.\"} {\"text\": \"In the heart of the Shire, Hobbits lead a unique lifestyle that showcases their adaptability and craftsmanship. They build charming structures like farmhouses and barns, even while residing in cozy holes, particularly in the Eastfarthing region. This reflects their deep-rooted connection to their land and their physical traits, often accentuated by their traditional footwear. The diverse ancestry of Hobbits, especially the Stoors, is highlighted by their distinctive beards, setting them apart from other groups like the Harfoots and Fallohides. This rich heritage emphasizes the importance of lineage and the blending of various Hobbit cultures. Furthermore, the art of building among Hobbits may have been influenced by the Du´nedain or learned from the Elves, showcasing the intermingling of different races in Middle-earth and the sharing of knowledge across cultures. The natural beauty surrounding the Hobbits, including the Grey Havens and the Tower Hills, underscores their profound connection to the land, reflecting a harmonious relationship with nature that is integral to their identity.\"} {\"text\": \"The Hobbits lived in a world where the Sea loomed as a distant yet ominous presence, a source of both fascination and fear. Despite its beauty, the Sea was shrouded in mystery and associated with death, leading to a deep-seated distrust among the Hobbits. They had never ventured to the heights where the Sea could be seen, and their interactions with the Elves, once more frequent, had grown strained and distant. This fear of the unknown not only colored their perception of the Sea but also influenced their relationships with those who embraced it, reflecting a broader trepidation towards anything beyond their familiar borders. In their homes, the Hobbits expressed their cultural identity through their unique architectural style. Their dwellings were long and low, designed for comfort, with round windows and doors that invited a sense of coziness. This practical approach to architecture showcased their adaptation to their environment while preserving their distinctiveness. However, as time passed, the Hobbits began to retreat further into isolation, distancing themselves from the Elves and the world beyond their hills. This withdrawal marked a significant change in their society, as they spoke less with the Elves and turned away from the western hills, risking a disconnection from their history and the broader tapestry of life that surrounded them.\"} {\"text\": \"In the heart of Hobbiton, the Hobbits thrived in a world woven with strong family ties and a deep sense of community. Large households, often filled with multiple generations, were the norm, as families like the Tooks and Brandybucks cherished their ancestral homes, living together in harmony. Their clannish nature was evident in their meticulous tracking of relationships, with detailed family trees that they took immense pride in. The genealogical records, particularly those in the revered Red Book of Westmarch, were a testament to their dedication, though they might seem tedious to outsiders. Alongside these familial bonds, Hobbits indulged in simple pleasures, such as their beloved pipe-weed, which was a hallmark of their leisurely lifestyle. This enjoyment of customs and the appreciation for life's small joys painted a vivid picture of a society that valued connection and contentment.\"} {\"text\": \"In the heart of Hobbiton, the Hobbits cherished a unique cultural practice that revolved around the art of smoking pipe-weed, a ritual that was woven into the very fabric of their leisurely lives. This custom, steeped in mystery, had origins that were lost to time, yet it brought a sense of joy and camaraderie among the Hobbits as they gathered to enjoy their clay and wooden pipes. The historical significance of this practice was highlighted by the legacy of Tobold Hornblower of Longbottom, who was renowned for cultivating the true pipe-weed in the Southfarthing, marking a pivotal moment in Hobbit agricultural history. His contributions not only showcased their pride in local produce but also reflected the evolution of their farming techniques. Adding to this rich tapestry of Hobbit culture was Meriadoc Brandybuck, a dedicated historian who meticulously compiled the lore surrounding pipe-weed in his work, Herblore of the Shire. His efforts underscored the importance of storytelling and documentation in preserving the essence of Hobbit life. Yet, despite these contributions, the origins of pipe-weed remained shrouded in legend, with no definitive records to pinpoint when this beloved practice began, leaving a sense of intrigue and wonder about the unrecorded tales that shaped their identity.\"} {\"text\": \"The origins of pipe-weed are shrouded in mystery, particularly regarding how Old Toby came to possess it. Although he was well-versed in herbs, Old Toby was not a traveler, leading to speculation that his knowledge stemmed from Bree, a place where the plant thrived. This uncertainty underscores Bree's significance in the history of pipe-weed's introduction to the Shire. Meanwhile, the Bree-hobbits take pride in claiming they were the first to smoke pipe-weed, referring to the Shire's inhabitants as mere 'colonists.' This rivalry reflects a deep cultural pride and competition, as Bree asserts its precedence in the art of smoking, a practice that has since spread to various races, including Dwarves and Rangers. The spread of this smoking culture can be traced back to Bree, where the Prancing Pony inn served as a vital social hub for the exchange of customs and traditions. Additionally, it is noted that pipe-weed is not native to the Shire; rather, it likely originated from the lower Anduin, introduced by the Men of Westernesse. This geographical journey highlights the contrast between the abundant cultivation of pipe-weed in Gondor and its relative scarcity in the North, where it fails to grow wild.\"} {\"text\": \"In the Shire, the rich tapestry of cultural heritage is woven through the unique practices of its inhabitants, particularly the Hobbits. Among their notable contributions is the art of pipe-smoking, which they have transformed into a cherished tradition. While the Men of Gondor admire the sweet fragrance of galenas, it is the Hobbits who have ingeniously adapted it for use in their pipes, marking a distinctive aspect of their cultural identity. The Shire itself is a well-organized land, divided into four quarters known as Farthings, each further split into folklands. This geographical layout not only reflects the social structure of the community but also fosters a sense of belonging, as families often identify with specific regions. However, some families, like the Bagginses and Bofﬁns, have ventured beyond their traditional boundaries. The Shire thrives on a system of self-governance, where formal government is absent, and families take charge of their own affairs. This independence underscores the strong community spirit among the Hobbits, who prioritize their agricultural lifestyle and personal well-being in their daily routines.\"} {\"text\": \"In a peaceful land where the Hobbits thrive, their lives are marked by self-sufficiency and a deep sense of contentment. They cultivate their own food, sharing generously with one another, and their way of life remains stable and unchanged through the generations. Despite the absence of a king for nearly a thousand years, the Hobbits hold onto the idea of a high king as a symbol of law and order, honoring the ancient traditions that have shaped their society. They attribute their essential laws to this long-gone ruler, reflecting their respect for the customs that govern their lives. Among them, the Took family stands out, having held the title of Thain for generations. While the role has become largely ceremonial, the Tooks are still revered for their wealth and influence, highlighting the significance of lineage and social hierarchy in Hobbit culture.\"} {\"text\": \"In the heart of Hobbit society, wealth and character intertwine, particularly among the Tooks, a family known for their considerable riches and unique personalities. Their affluence has fostered a breed of Hobbits with adventurous spirits, though such traits are now met with a mix of tolerance and disapproval, reflecting a shift in societal norms. Governance in the Shire is simple yet effective, with the Mayor of Michel Delving, elected every seven years, primarily overseeing festive gatherings and managing essential services like the Messenger Service and the Watch. This structure emphasizes community engagement over bureaucratic complexity. Communication plays a vital role in Hobbit life, as many, despite being unlettered, cherish the art of writing to friends and family beyond their immediate reach, reinforcing the bonds that hold their society together. Law enforcement is handled by the Shirriffs, who operate informally and prioritize peacekeeping over strict policing, embodying the laid-back ethos of Hobbit culture.\"} {\"text\": \"In the Shire, a small group known as the Bounders diligently patrols the borders, ensuring the safety of their community. Their focus lies more on livestock than on people, reflecting their role as guardians of the land rather than traditional enforcers of law. However, a sense of unease begins to permeate the Shire as reports of strange beings and disturbances at the borders increase, echoing the legends of old and hinting at the return of forgotten threats. Amidst this growing tension, Bilbo Baggins, now an aging adventurer, returns home with wealth and secrets, including a mysterious ring. His reluctance to divulge the details of his past, even to his relative Frodo, adds an air of mystery and highlights the burden of knowledge he carries. As the tranquility of the Shire hangs in the balance, the arrival of Gandalf the Grey and the dwarves, led by Thorin Oakenshield, signals the dawn of a new adventure, suggesting that the peaceful life of the Shire is on the brink of significant upheaval.\"} {\"text\": \"Gandalf and thirteen dwarves, led by the brave Thorin Oakenshield, embarked on a perilous journey to reclaim the treasure of the Kings under the Mountain in Erebor. Their adventure was marked by the thrilling success of defeating the dragon that guarded the hoard, a testament to their courage and determination. However, the quest was not without its costs; Thorin, despite achieving their goal, ultimately fell in the Battle of Five Armies, illustrating the heavy price of heroism and the complexities that accompany great deeds. Amidst this grand adventure, fate played a pivotal role when Bilbo stumbled upon a mysterious ring while lost in the orc-mines. This seemingly fortuitous discovery would prove to be a turning point, shaping the course of events in ways he could not foresee. Bilbo's journey through the dark, cold mines also highlighted themes of isolation and the unknown, as he faced personal challenges that paralleled the external conflicts of the quest. In the depths of the mountain, he encountered Gollum, a loathsome creature embodying the darker aspects of existence. Gollum's presence served as a stark reminder of the evil that lurked in the world, adding depth to the narrative's exploration of the eternal struggle between good and evil.\"} {\"text\": \"In the depths of dark waters, Gollum lives a life of isolation, shunning the light and surviving by hunting whatever he can catch. His desperation drives him to attack any living creature, including orcs, as he struggles to satisfy his relentless hunger. Central to his existence is the ring, his 'Precious', which embodies his obsession and the corruption it has wrought upon him. Gollum speaks to the ring as if it were a companion, revealing the profound emotional attachment and sense of possession that defines his life. This obsession leads him to a fateful encounter with Bilbo, where he challenges the hobbit to a riddle-game, a contest that becomes a matter of life and death. In this high-stakes situation, both characters are driven by their instincts to survive. Although Bilbo ultimately wins the game, the outcome raises questions about the nature of success, suggesting that luck played a more significant role than skill in this perilous moment.\"} {\"text\": \"In a dark and treacherous place, Bilbo finds himself entangled with Gollum, a creature whose heart has been twisted by years of isolation and an insatiable greed for his 'Precious' ring. Despite the sacredness of promises, Bilbo is acutely aware that Gollum may not honor any agreement they make, revealing the fragile nature of trust when dealing with someone so corrupted. Gollum's desperation drives him to seek out Bilbo, consumed by anger and hunger as he contemplates extreme measures to reclaim what he has lost. This desperation is a direct result of his long solitude, which has not only warped his character but also made him capable of deceit and violence. In this perilous encounter, Bilbo cleverly employs his wit, opting to ask a question instead of presenting a traditional riddle, showcasing how intelligence can be a vital tool for survival in dire situations.\"} {\"text\": \"In a dark and treacherous place, Bilbo Baggins finds himself face to face with Gollum, a creature consumed by his obsession with the ring he calls 'Precious.' Despite having the chance to end Gollum's life, Bilbo chooses mercy over violence, feeling a deep pity for the wretched being. This moment of compassion reveals the moral complexity of their encounter, as Bilbo grapples with the struggle between good and evil. As he navigates the perilous situation, luck intervenes when the ring unexpectedly slips onto his finger, granting him invisibility and a chance to escape. This twist of fate highlights the unpredictable nature of their journeys, where chance plays a crucial role in survival. Meanwhile, Gollum's erratic behavior, filled with curses and self-talk, showcases his profound isolation and desperation, mirroring Bilbo's own fear as he flees through the darkness. Yet, amidst the chaos, Bilbo discovers a glimmer of hope in the ring, which not only offers him a means of escape but also signifies a transformation within himself. As he contemplates the weight of possessing such a powerful object, he begins to understand the responsibilities that come with it, marking a pivotal moment in his evolving identity.\"} {\"text\": \"Bilbo's tale of his encounter with Gollum reveals a complex interplay of truth and deception, as he chooses to omit the crucial detail of acquiring the magic ring. This selective storytelling reflects the intricacies of memory, where Bilbo's memoirs present a version of events that aligns with his perspective, despite the existence of alternative truths. His relationship with Gandalf is tested as the wizard's probing questions seek to uncover the hidden truths, highlighting the strain that secrets can place on friendship and trust. Gandalf's eventual understanding of the ring's true nature brings to light the burden of knowledge, illustrating that some truths carry heavy implications and responsibilities, especially in a world rife with danger and deceit.\"} {\"text\": \"Bilbo's journey is marked by a profound struggle between truth and secrecy, particularly in his interactions with those closest to him. Despite his usual honesty, he chooses to conceal the existence of the ring, confiding only in Gandalf and Frodo. This decision weighs heavily on him, as it reflects a deeper complexity within his character and the burdens that come with keeping secrets. His adventures have shaped his identity, symbolized by the artifacts he possesses, like his sword, Sting, and the Dwarves' coat of mail. These items serve as reminders of his past and the legacy he wishes to preserve. However, the hidden ring complicates this legacy, intertwining his heroic deeds with darker forces, suggesting that his story is not solely one of valor but also of the weight of unspoken truths.\"} {\"text\": \"In the wake of significant events that brought the Shire into the fold of the Reunited Kingdom, Hobbits began to awaken to the importance of their own history. This newfound awareness sparked a movement to collect and document their oral traditions, marking a pivotal shift from an oral culture to one that embraced written history. As this interest flourished, libraries emerged in key locations such as Undertowers, Great Smials, and Brandy Hall, becoming vital centers for the preservation of knowledge and heritage. By the end of the first century of the Fourth Age, these libraries were filled with historical texts, reflecting a deepening appreciation for the events that had shaped their world. Among these texts, the Red Book of Westmarch stood out as a crucial record of the War of the Ring, originally kept at Undertowers. This book not only highlighted the significance of documentation in understanding their past but also underscored the contributions of key figures like Bilbo, who played a vital role in chronicling the history of the Hobbits and their involvement in the grander tapestry of events.\"} {\"text\": \"In the Shire, the legacy of Bilbo and Frodo was immortalized through the Red Book, a cherished collection that began as Bilbo's private diary. After the War, Frodo returned home and filled its pages with his own experiences, underscoring the importance of recording both personal and collective histories for future generations. This book became a symbol of continuity, as it was passed down to the descendants of Master Samwise, with additional copies made, including one in Gondor, ensuring that their stories would endure. The hobbits, often underestimated, showcased their cultural significance through the creation of genealogies and commentaries about the Fellowship, revealing a rich narrative that deserved to be documented. The interconnectedness of the characters was evident in their shared commitment to preserving the Red Book, with figures like King Elessar and Thain Peregrin playing vital roles in this collaborative effort, highlighting the power of storytelling and the bonds formed through shared memories.\"} {\"text\": \"In a time when much of the lore and history was at risk of being forgotten, the Thain's Book emerged as a crucial artifact, being the first copy of the Red Book. This remarkable document played a vital role in preserving the narratives that had been lost or omitted, highlighting the importance of diligent documentation in safeguarding history, especially in the aftermath of the War. The meticulous annotations and corrections within the Thain's Book, particularly those concerning Elvish names and phrases, underscored a deep respect for cultural and linguistic heritage, revealing how language serves as a vessel for identity and tradition. Meanwhile, Bilbo's 'Translations from the Elvish' showcased the literary contributions of individuals dedicated to enriching their society's understanding of its past. His skillful translations not only illuminated the intricacies of their culture but also emphasized the value of preserving knowledge through written works. As Meriadoc and Peregrin took on the mantle of leadership within their families, they remained steadfast in their connections to Rohan and Gondor, embodying the theme of family legacy. Their commitment to maintaining ties to their heritage and the importance of family libraries and collections illustrated how personal histories intertwine with the broader narrative of cultural preservation.\"} {\"text\": \"In the Shire, the hobbits made remarkable literary contributions, with Meriadoc standing out for his extensive writings on Eriador, Rohan, and their homeland. His notable works included the 'Herblore of the Shire,' which detailed the local flora, and the 'Reckoning of Years,' a significant piece that intertwined various calendars, showcasing his scholarly pursuits. Meriadoc's fascination with the Rohirrim's language and the origins of Shire words further illustrated the depth of hobbit scholarship. Meanwhile, at Great Smials, the importance of historical documentation was evident as manuscripts concerning the histories of Númenor and Sauron were meticulously collected. Although Peregrin did not author these texts, his dedication to gathering materials from Gondor demonstrated a strong commitment to preserving their history and understanding their place in the world. This collaborative spirit was also reflected in the creation of the 'Tale of Years,' a historical compilation that drew on contributions from Meriadoc and possibly insights from Rivendell, emphasizing the interconnectedness of cultures and the vital role hobbits played in the broader historical narrative.\"} {\"text\": \"In a time when the echoes of the Elder Days still lingered in the air, Rivendell stood as a sanctuary, a bastion of knowledge and refuge for those seeking guidance. It was here that the protagonist found not only assistance but also a gathering of significant figures, a testament to the importance of this place even after the departure of Elrond. Among those who remained was Celeborn, a living link to the ancient past, embodying the enduring legacy of the Elves in Middle-earth. His presence served as a reminder of the rich history and memories that the Elves carried with them. However, as time flowed onward, the inevitability of transition loomed, culminating in Celeborn's journey to the Grey Havens. This departure marked a poignant moment, signaling the end of an era and the gradual fading of the Elves from the world, leaving behind a profound sense of loss as the last vestiges of the Elder Days slipped away.\"}\n"
     ]
    }
   ],
   "source": [
    "\n",
    "final_summary = []\n",
    "output_parser = StrOutputParser()\n",
    "prompt = ChatPromptTemplate.from_template(reduce_prompt_text)\n",
    "\n",
    "for response in responses:\n",
    "    chain = (\n",
    "    {\"text\": RunnablePassthrough()} \n",
    "        | prompt\n",
    "        | azure_client\n",
    "        | output_parser\n",
    "    )\n",
    "\n",
    "    final_summary.append(chain.invoke(response))\n",
    "\n",
    "print(' '.join(final_summary))"
   ]
  },
  {
   "cell_type": "code",
   "execution_count": 44,
   "metadata": {},
   "outputs": [
    {
     "name": "stdout",
     "output_type": "stream",
     "text": [
      "28\n"
     ]
    }
   ],
   "source": [
    "print(len(final_summary))"
   ]
  },
  {
   "cell_type": "code",
   "execution_count": 45,
   "metadata": {},
   "outputs": [],
   "source": [
    "final_text = ''\n",
    "\n",
    "for fs in final_summary:\n",
    "    if len(fs) > 0:\n",
    "        #raw_js = '{' + fs + '}'\n",
    "        js = json.loads(fs)\n",
    "        final_text += '\\n\\n' + js[\"text\"]\n",
    "\n"
   ]
  },
  {
   "cell_type": "code",
   "execution_count": 46,
   "metadata": {},
   "outputs": [],
   "source": [
    "with open(\"./prologue_text.txt\", \"w\") as prologue:\n",
    "    # Writing data to a file\n",
    "    prologue.write(prologue_text)\n",
    "\n",
    "with open(\"./prologue_summary_text.txt\", \"w\") as summary:\n",
    "    # Writing data to a file\n",
    "    summary.write(final_text)"
   ]
  }
 ],
 "metadata": {
  "kernelspec": {
   "display_name": "base",
   "language": "python",
   "name": "python3"
  },
  "language_info": {
   "codemirror_mode": {
    "name": "ipython",
    "version": 3
   },
   "file_extension": ".py",
   "mimetype": "text/x-python",
   "name": "python",
   "nbconvert_exporter": "python",
   "pygments_lexer": "ipython3",
   "version": "3.11.5"
  }
 },
 "nbformat": 4,
 "nbformat_minor": 2
}
