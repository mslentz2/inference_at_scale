{
 "cells": [
  {
   "cell_type": "markdown",
   "metadata": {},
   "source": [
    "# Practice using an LLM as a Classifier"
   ]
  },
  {
   "cell_type": "code",
   "execution_count": 1,
   "metadata": {},
   "outputs": [],
   "source": [
    "from langchain_openai import AzureChatOpenAI\n",
    "from langchain_openai import AzureOpenAI\n",
    "from langchain_core.output_parsers import StrOutputParser\n",
    "from langchain.prompts import PromptTemplate\n",
    "from datasets import load_dataset\n",
    "\n",
    "from dotenv import load_dotenv\n",
    "\n",
    "import json\n",
    "import pandas as pd\n",
    "import os\n",
    "\n",
    "from azure.identity import (\n",
    "    DefaultAzureCredential,\n",
    ")\n",
    "\n",
    "from azure.identity import AzureAuthorityHosts\n",
    "from azure.keyvault.secrets import SecretClient\n",
    "\n",
    "from sklearn.metrics import classification_report, ConfusionMatrixDisplay, confusion_matrix"
   ]
  },
  {
   "cell_type": "markdown",
   "metadata": {},
   "source": [
    "### Create your Azure OpenAI Resource and Key Vault\n",
    "\n",
    "_If you have your resource from the last exercise, you don't need to complete the following steps._\n",
    "\n",
    "Navigate to the [Azure Portal](https://portal.azure.com/#home) or [US Gov Azure Portal](https://portal.azure.us/#home) and login using your account. Next you're going to create an Azure OpenAI resource, create a new resource group and use any unique name for the resource's name.  \n",
    "Once the resource is created, you need to open [Azure AI Foundry](https://ai.azure.com/) or [Azure OpenAI Studio](https://ai.azure.us/) to deploy the model. Navigate to deployments, press deploy model and select gpt-4o-mini.  Make sure to increase your rate limit, or tokens per minute (around 700k should be sufficient)\n",
    "\n",
    "Once that is created, copy the key (Found under Resource Management > Keys and Endpoints) and create a new key vault. Assign the same resource group as your Azure OpenAI resource and again pick a unique name for the key vault name.  \n",
    "\n",
    "Once the key vault is created, make a new secret with the API key.  "
   ]
  },
  {
   "cell_type": "markdown",
   "metadata": {},
   "source": [
    "### Connect to Azure OpenAI\n",
    "First, run `az login` in the terminal and login to your FedAIRS account.  \n",
    "<br>\n",
    "If you are using a Gov account:<br>\n",
    "az cloud set --name AzureUSGovernment <br>\n",
    "az login <br>\n",
    "az account set --subscription=\"your subscription\"<br>\n",
    "\n",
    "If you are using a commercial account:<br>\n",
    "az login <br>\n",
    "az account set --subscription=\"your subscription\"<br>\n",
    "<br>\n",
    "Two things are needed to connect to your Azure OpenAI resource\n",
    "- Your API key\n",
    "- Your Endpoint  \n",
    "  \n",
    "For the API Key, we are going to connect to the key vault we just made to insert the key. For this, you'll need to change the URL below to match your key vault's URL.  \n",
    "Next, we will insert the endpoint URL from our Azure OpenAI resource.\n",
    "\n",
    "Our `azure_client` is where we are calling the LLM and connecting to the model we deployed. Other parameters can be passed in, like timeout or max_retires.\n",
    "\n",
    "Note: In the block below we inserted `credential = DefaultAzureCredential(authority=AzureAuthorityHosts.AZURE_GOVERNMENT)`. This is because when we use our FedAIRS account we are connected to the US Government cloud, rather than the regular commercial cloud."
   ]
  },
  {
   "cell_type": "code",
   "execution_count": 2,
   "metadata": {},
   "outputs": [],
   "source": [
    "load_dotenv()\n",
    "\n",
    "credential = DefaultAzureCredential(authority=AzureAuthorityHosts.AZURE_GOVERNMENT)\n",
    "\n",
    "secret_client = SecretClient(vault_url=os.getenv('KEY_VAULT_URL'), credential=credential)\n",
    "deployment = os.getenv('DEPLOYMENT')\n",
    "endpoint_url = os.getenv('AZURE_OPENAI_ENDPOINT')\n",
    "api_version = os.getenv('API_VERSION')\n",
    "api_key = secret_client.get_secret(os.getenv('SECRET_NAME')).value\n",
    "\n",
    "\n",
    "azure_client = AzureChatOpenAI(\n",
    "                api_key=api_key\n",
    "                ,api_version=api_version\n",
    "                ,azure_endpoint=endpoint_url\n",
    "                ,deployment_name=deployment\n",
    "                ,temperature=0\n",
    "                ,max_tokens=4000\n",
    "                ,model_kwargs={\"response_format\": {\"type\": \"json_object\"}}\n",
    ")"
   ]
  },
  {
   "cell_type": "markdown",
   "metadata": {},
   "source": [
    "### Lets Take a Look at the Data\n",
    "\n",
    "We're going to pull data from [Hugging Face](https://huggingface.co/). Hugging Face is a platform and community that provides tools and resources for building, sharing, and collaborating on machine learning models and datasets. It supports a wide range of applications, including natural language processing, computer vision, and reinforcement learning, making it a valuable resource for developers and researchers.  \n",
    "\n",
    "Generally, training datasets are split into two: training and testing. The training set is what is used to train the LLM, while the testing set is used for validation, to ensure the LLM can classify the data properly after being trained. For our purposes, we don't need to look at the training versus testing sets, but we will use the data as a whole.  \n",
    "\n",
    "The [dataset](https://huggingface.co/datasets/SetFit/bbc-news) we are using is a collection of BBC headlines categorized into 5 types of articles:\n",
    "* business\n",
    "* sport\n",
    "* tech\n",
    "* entertainment\n"
   ]
  },
  {
   "cell_type": "code",
   "execution_count": 3,
   "metadata": {},
   "outputs": [
    {
     "name": "stderr",
     "output_type": "stream",
     "text": [
      "Found cached dataset json (C:/Users/mislentz/.cache/huggingface/datasets/SetFit___json/SetFit--bbc-news-8edd71b4b12a4027/0.0.0/e347ab1c932092252e717ff3f949105a4dd28b27e842dd53157d2f72e276c2e4)\n"
     ]
    },
    {
     "data": {
      "text/html": [
       "<div>\n",
       "<style scoped>\n",
       "    .dataframe tbody tr th:only-of-type {\n",
       "        vertical-align: middle;\n",
       "    }\n",
       "\n",
       "    .dataframe tbody tr th {\n",
       "        vertical-align: top;\n",
       "    }\n",
       "\n",
       "    .dataframe thead th {\n",
       "        text-align: right;\n",
       "    }\n",
       "</style>\n",
       "<table border=\"1\" class=\"dataframe\">\n",
       "  <thead>\n",
       "    <tr style=\"text-align: right;\">\n",
       "      <th></th>\n",
       "      <th>text</th>\n",
       "      <th>label_text</th>\n",
       "    </tr>\n",
       "  </thead>\n",
       "  <tbody>\n",
       "    <tr>\n",
       "      <th>0</th>\n",
       "      <td>wales want rugby league training wales could f...</td>\n",
       "      <td>sport</td>\n",
       "    </tr>\n",
       "    <tr>\n",
       "      <th>1</th>\n",
       "      <td>china aviation seeks rescue deal scandal-hit j...</td>\n",
       "      <td>business</td>\n",
       "    </tr>\n",
       "    <tr>\n",
       "      <th>2</th>\n",
       "      <td>rock band u2 break ticket record u2 have smash...</td>\n",
       "      <td>entertainment</td>\n",
       "    </tr>\n",
       "    <tr>\n",
       "      <th>3</th>\n",
       "      <td>markets signal brazilian recovery the brazilia...</td>\n",
       "      <td>business</td>\n",
       "    </tr>\n",
       "    <tr>\n",
       "      <th>4</th>\n",
       "      <td>tough rules for ringtone sellers firms that fl...</td>\n",
       "      <td>tech</td>\n",
       "    </tr>\n",
       "  </tbody>\n",
       "</table>\n",
       "</div>"
      ],
      "text/plain": [
       "                                                text     label_text\n",
       "0  wales want rugby league training wales could f...          sport\n",
       "1  china aviation seeks rescue deal scandal-hit j...       business\n",
       "2  rock band u2 break ticket record u2 have smash...  entertainment\n",
       "3  markets signal brazilian recovery the brazilia...       business\n",
       "4  tough rules for ringtone sellers firms that fl...           tech"
      ]
     },
     "execution_count": 3,
     "metadata": {},
     "output_type": "execute_result"
    }
   ],
   "source": [
    "news_dataset=load_dataset(\"SetFit/bbc-news\", split=\"train\")\n",
    "news = news_dataset.to_pandas()\n",
    "news.drop(columns='label', inplace=True)\n",
    "news.head()"
   ]
  },
  {
   "cell_type": "markdown",
   "metadata": {},
   "source": [
    "Next, we will take a random sample of 100 rows to test against the LLM to see if it can classify the news titles properly"
   ]
  },
  {
   "cell_type": "code",
   "execution_count": 4,
   "metadata": {},
   "outputs": [],
   "source": [
    "news_sample = news.sample(100).reset_index()"
   ]
  },
  {
   "cell_type": "markdown",
   "metadata": {},
   "source": [
    "In the following block, we are setting up the prompt to query the LLM with the headlines. "
   ]
  },
  {
   "cell_type": "code",
   "execution_count": 5,
   "metadata": {},
   "outputs": [],
   "source": [
    "categories_prompt = PromptTemplate.from_template(\n",
    "\n",
    "    template = '''\n",
    "### Instructions:\n",
    "Your job is to analyze the block of text and select the category that news article headline corresponds to.\n",
    "Your selection must come from the category listed in the 'Categories' section.  Do answer with a category that is not in the category list.\n",
    "Extract the key words that support your selection of a particular category.\n",
    "Return your results in json.\n",
    "\n",
    "### Categories\n",
    "- business \n",
    "- entertainment\n",
    "- politics\n",
    "- sport\n",
    "- tech \n",
    "\n",
    "### Article Headline:\n",
    "{input}\n",
    "\n",
    "### Return JSON:\n",
    "{{\n",
    "    \"category\": \"<CategoryName>\",\n",
    "    \"key_words\": \"<Notable words that led to the category selection>\",\n",
    "    \"rationale\": \"<Explain why you selected the category>\"\n",
    "}}\n",
    "'''\n",
    ")"
   ]
  },
  {
   "cell_type": "markdown",
   "metadata": {},
   "source": [
    "In the next few blocks, we are separating out the headlines so that we can run them through the LLM one at a time to be classified."
   ]
  },
  {
   "cell_type": "code",
   "execution_count": 6,
   "metadata": {},
   "outputs": [],
   "source": [
    "async def runChain(text_list, chain):\n",
    "    texts = [{\"input\": text} for text in text_list]\n",
    "    return await chain.abatch(texts, config={\"max_concurrency\": 15})"
   ]
  },
  {
   "cell_type": "code",
   "execution_count": 7,
   "metadata": {},
   "outputs": [],
   "source": [
    "categories_chain = (\n",
    "    categories_prompt\n",
    "    | azure_client\n",
    "    | StrOutputParser()\n",
    ")"
   ]
  },
  {
   "cell_type": "code",
   "execution_count": 8,
   "metadata": {},
   "outputs": [],
   "source": [
    "texts = [text for text in news_sample.text]"
   ]
  },
  {
   "cell_type": "code",
   "execution_count": 9,
   "metadata": {},
   "outputs": [],
   "source": [
    "results = await runChain(texts, categories_chain)\n",
    "news_sample[\"results\"] = results\n",
    "\n",
    "results_df = pd.json_normalize(news_sample.results.apply(json.loads))\n",
    "final = pd.concat([news_sample, results_df], axis=1)"
   ]
  },
  {
   "cell_type": "markdown",
   "metadata": {},
   "source": [
    "Below, we are making a dataframe of the actual categories of the headlines versus the prediction the LLM made."
   ]
  },
  {
   "cell_type": "code",
   "execution_count": 10,
   "metadata": {},
   "outputs": [
    {
     "data": {
      "text/html": [
       "<div>\n",
       "<style scoped>\n",
       "    .dataframe tbody tr th:only-of-type {\n",
       "        vertical-align: middle;\n",
       "    }\n",
       "\n",
       "    .dataframe tbody tr th {\n",
       "        vertical-align: top;\n",
       "    }\n",
       "\n",
       "    .dataframe thead th {\n",
       "        text-align: right;\n",
       "    }\n",
       "</style>\n",
       "<table border=\"1\" class=\"dataframe\">\n",
       "  <thead>\n",
       "    <tr style=\"text-align: right;\">\n",
       "      <th></th>\n",
       "      <th>label_text</th>\n",
       "      <th>prediction</th>\n",
       "      <th>text</th>\n",
       "      <th>key_words</th>\n",
       "      <th>rationale</th>\n",
       "    </tr>\n",
       "  </thead>\n",
       "  <tbody>\n",
       "    <tr>\n",
       "      <th>0</th>\n",
       "      <td>business</td>\n",
       "      <td>business</td>\n",
       "      <td>nigeria to boost cocoa production the governme...</td>\n",
       "      <td>boost cocoa production, development programme,...</td>\n",
       "      <td>The article discusses Nigeria's initiative to ...</td>\n",
       "    </tr>\n",
       "    <tr>\n",
       "      <th>1</th>\n",
       "      <td>tech</td>\n",
       "      <td>tech</td>\n",
       "      <td>eu software patent law faces axe the european ...</td>\n",
       "      <td>software patent law, european parliament, hi-t...</td>\n",
       "      <td>The article discusses the rejection of a bill ...</td>\n",
       "    </tr>\n",
       "    <tr>\n",
       "      <th>2</th>\n",
       "      <td>sport</td>\n",
       "      <td>sport</td>\n",
       "      <td>holmes is hit by hamstring injury kelly holmes...</td>\n",
       "      <td>hamstring injury, athletics championships, dou...</td>\n",
       "      <td>The article discusses an athlete, Kelly Holmes...</td>\n",
       "    </tr>\n",
       "    <tr>\n",
       "      <th>3</th>\n",
       "      <td>tech</td>\n",
       "      <td>tech</td>\n",
       "      <td>new delay hits eu software laws a fresh delay ...</td>\n",
       "      <td>eu software laws, computer-based inventions, p...</td>\n",
       "      <td>The article discusses new European Union regul...</td>\n",
       "    </tr>\n",
       "    <tr>\n",
       "      <th>4</th>\n",
       "      <td>tech</td>\n",
       "      <td>tech</td>\n",
       "      <td>hotspot users gain free net calls people using...</td>\n",
       "      <td>wireless net hotspots, free phone calls, skype...</td>\n",
       "      <td>The article discusses advancements in technolo...</td>\n",
       "    </tr>\n",
       "  </tbody>\n",
       "</table>\n",
       "</div>"
      ],
      "text/plain": [
       "  label_text prediction                                               text  \\\n",
       "0   business   business  nigeria to boost cocoa production the governme...   \n",
       "1       tech       tech  eu software patent law faces axe the european ...   \n",
       "2      sport      sport  holmes is hit by hamstring injury kelly holmes...   \n",
       "3       tech       tech  new delay hits eu software laws a fresh delay ...   \n",
       "4       tech       tech  hotspot users gain free net calls people using...   \n",
       "\n",
       "                                           key_words  \\\n",
       "0  boost cocoa production, development programme,...   \n",
       "1  software patent law, european parliament, hi-t...   \n",
       "2  hamstring injury, athletics championships, dou...   \n",
       "3  eu software laws, computer-based inventions, p...   \n",
       "4  wireless net hotspots, free phone calls, skype...   \n",
       "\n",
       "                                           rationale  \n",
       "0  The article discusses Nigeria's initiative to ...  \n",
       "1  The article discusses the rejection of a bill ...  \n",
       "2  The article discusses an athlete, Kelly Holmes...  \n",
       "3  The article discusses new European Union regul...  \n",
       "4  The article discusses advancements in technolo...  "
      ]
     },
     "execution_count": 10,
     "metadata": {},
     "output_type": "execute_result"
    }
   ],
   "source": [
    "final = final[['label_text','category','text','key_words','rationale']]\n",
    "final = final.rename(columns={'category': 'prediction'})\n",
    "final.head()"
   ]
  },
  {
   "cell_type": "markdown",
   "metadata": {},
   "source": [
    "### Evalutating the Results\n",
    "To evaluate the results of the LLM, we are going to use something called a _Confusion Matrix_. A Confusion Matrix is tool used to evaluate the performance of a classifier by comparing predicted labels with true labels. It consists of four components:\n",
    "\n",
    "* True Positive (TP): Correctly predicted positive instances.\n",
    "* False Positive (FP): Incorrectly predicted as positive.\n",
    "* False Negative (FN): Incorrectly predicted as negative.\n",
    "* True Negative (TN): Correctly predicted negative instances.  \n",
    "\n",
    "The vertical axis corresponds to the actual category the headlines were given, while the horizontal axis shows the predicted categories. We can find the true positives along the diagonal of our confusion matrix. For example, 21 cases were classified as sports and were actually sports headlines, therse are true positives. The other boxes show us were there may have been errors. In the top row we fan see there are 3 headlines that were predicted as politics, but were actually business. These are false positives.  \n",
    "\n",
    "There are a few other indicators we can measure and analyze:\n",
    "* **Precision** is the ratio of true positive predictions to the total number of positive predictions (TP / (TP + FP)). It indicates how many of the predicted positive instances are actually positive.\n",
    "* **Recall**, also known as sensitivity or true positive rate, is the ratio of true positive predictions to the total number of actual positive instances (TP / (TP + FN)). It measures how well the model is capturing all the positive instances.\n",
    "* The **F1-score** is the harmonic mean of precision and recall, providing a single metric that balances both. It is calculated as 2 * (Precision * Recall) / (Precision + Recall). The F1-score is useful when you need to balance precision and recall.\n",
    "* **Support** refers to the number of actual occurrences of each class in the dataset. It helps in understanding the distribution of the classes and can influence the interpretation of the other metrics.  \n",
    "\n",
    "For more examples and information on what a confusion matrix is, check out [this article](https://towardsdatascience.com/visual-guide-to-the-confusion-matrix-bb63730c8eba).\n",
    "\n",
    "<img src=\"https://miro.medium.com/v2/resize:fit:1400/format:webp/1*9TDo041I1jDfkoRI09Zeog.gif\"  width=\"450\" height=\"350\">"
   ]
  },
  {
   "cell_type": "code",
   "execution_count": 11,
   "metadata": {},
   "outputs": [
    {
     "name": "stdout",
     "output_type": "stream",
     "text": [
      "               precision    recall  f1-score   support\n",
      "\n",
      "     business       0.83      0.77      0.80        13\n",
      "entertainment       0.86      0.95      0.90        19\n",
      "     politics       0.84      1.00      0.91        16\n",
      "        sport       1.00      1.00      1.00        30\n",
      "         tech       1.00      0.82      0.90        22\n",
      "\n",
      "     accuracy                           0.92       100\n",
      "    macro avg       0.91      0.91      0.90       100\n",
      " weighted avg       0.93      0.92      0.92       100\n",
      "\n"
     ]
    },
    {
     "data": {
      "image/png": "[encoded data removed]",
      "text/plain": [
       "<Figure size 640x480 with 2 Axes>"
      ]
     },
     "metadata": {},
     "output_type": "display_data"
    }
   ],
   "source": [
    "categories = [\"business\", \"entertainment\", \"politics\", \"sport\", \"tech\"]\n",
    "y_true = final.label_text.apply(lambda x: categories.index(x))\n",
    "y_pred = final.prediction.apply(lambda x: categories.index(x))\n",
    "\n",
    "labels=categories\n",
    "\n",
    "cm = confusion_matrix(y_true, y_pred)\n",
    "cm_display = ConfusionMatrixDisplay(cm, display_labels=labels).plot()\n",
    "\n",
    "print(classification_report(y_true, y_pred, target_names=labels, zero_division=0))"
   ]
  }
 ],
 "metadata": {
  "kernelspec": {
   "display_name": "base",
   "language": "python",
   "name": "python3"
  },
  "language_info": {
   "codemirror_mode": {
    "name": "ipython",
    "version": 3
   },
   "file_extension": ".py",
   "mimetype": "text/x-python",
   "name": "python",
   "nbconvert_exporter": "python",
   "pygments_lexer": "ipython3",
   "version": "3.11.5"
  }
 },
 "nbformat": 4,
 "nbformat_minor": 2
}
