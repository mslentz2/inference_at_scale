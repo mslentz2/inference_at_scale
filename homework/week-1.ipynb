{
 "cells": [
  {
   "cell_type": "code",
   "execution_count": 1,
   "metadata": {},
   "outputs": [],
   "source": [
    "from langchain_openai import AzureChatOpenAI\n",
    "from langchain_openai import AzureOpenAI\n",
    "from langchain_core.output_parsers import StrOutputParser\n",
    "from langchain.prompts import PromptTemplate\n",
    "from datasets import load_dataset\n",
    "\n",
    "from dotenv import load_dotenv\n",
    "\n",
    "import json\n",
    "import pandas as pd\n",
    "import os\n",
    "\n",
    "from azure.identity import (\n",
    "    DefaultAzureCredential,\n",
    ")\n",
    "\n",
    "from azure.identity import AzureAuthorityHosts\n",
    "from azure.keyvault.secrets import SecretClient"
   ]
  },
  {
   "cell_type": "markdown",
   "metadata": {},
   "source": [
    "### Week 1 Homework\n",
    "In your Azure account create \n",
    "- An Azure OpenAI instance \n",
    "- Deploy a model and configure capacity\n",
    "- A Key Vault\n",
    "- Setup the .env file\n",
    "- Test connectivity between your laptop and the AOAI instance \n",
    "- Run a prompt against the AOAI instance\n",
    "- Create a Synapse instance"
   ]
  },
  {
   "cell_type": "markdown",
   "metadata": {},
   "source": [
    "### Create your Azure OpenAI Resource and Key Vault\n",
    "\n",
    "Navigate to the [Azure Portal](https://portal.azure.com/#home) or [US Gov Azure Portal](https://portal.azure.us/#home) and login using your account. Next you're going to create an Azure OpenAI resource (use the AZ region), create a new resource group and use any unique name for the resource's name.  \n",
    "Once the resource is created, you need to open [Azure AI Foundry](https://ai.azure.com/) or [Azure OpenAI Studio](https://ai.azure.us/) to deploy the model. Navigate to deployments, press deploy model and select gpt-4o-mini.  Make sure to increase your rate limit, or tokens per minute (around 700k should be sufficient)\n",
    "\n",
    "Once that is created, copy the key (Found under Resource Management > Keys and Endpoints) and create a new key vault. Assign the same resource group as your Azure OpenAI resource and again pick a unique name for the key vault name.  \n",
    "\n",
    "Once the key vault is created, make a new secret with the API key.  "
   ]
  },
  {
   "cell_type": "markdown",
   "metadata": {},
   "source": [
    "### Connect to Azure OpenAI\n",
    "First, run `az login` in the terminal and login to your FedAIRS account.  \n",
    "<br>\n",
    "If you are using a Gov account:<br>\n",
    "az cloud set --name AzureUSGovernment <br>\n",
    "az login <br>\n",
    "az account set --subscription=\"your subscription\"<br>\n",
    "\n",
    "If you are using a commercial account:<br>\n",
    "az login <br>\n",
    "az account set --subscription=\"your subscription\"<br>\n",
    "<br>\n",
    "Two things are needed to connect to your Azure OpenAI resource\n",
    "- Your API key\n",
    "- Your Endpoint  \n",
    "  \n",
    "For the API Key, we are going to connect to the key vault we just made to insert the key. For this, you'll need to change the URL below to match your key vault's URL.  \n",
    "Next, we will insert the endpoint URL from our Azure OpenAI resource.\n",
    "\n",
    "Our `azure_client` is where we are calling the LLM and connecting to the model we deployed. Other parameters can be passed in, like timeout or max_retires.\n",
    "\n",
    "Note: In the block below we inserted `credential = DefaultAzureCredential(authority=AzureAuthorityHosts.AZURE_GOVERNMENT)`. This is because when we use our FedAIRS account we are connected to the US Government cloud, rather than the regular commercial cloud."
   ]
  },
  {
   "cell_type": "markdown",
   "metadata": {},
   "source": [
    "### Create a .env File\n",
    "To secure your secrets with checking them into a repository, create a .env to contain secrets that are specific to your project.  The file will look like this:\n",
    "\n",
    "KEY_VAULT_URL = \"The key vault URL\"<br>\n",
    "SECRET_NAME = \"name of the secret for the AOAI API key\"<br>\n",
    "AZURE_OPENAI_ENDPOINT = \"your AOAI endpoint\"<br>\n",
    "API_VERSION = \"The API version.  The latest version is: 2024-10-21\"<br>\n",
    "DEPLOYMENT = \"your deployment name\"<br>\n",
    "\n",
    "Be sure to add .env to your gitignore file"
   ]
  },
  {
   "cell_type": "markdown",
   "metadata": {},
   "source": [
    "### Create and configure deployment\n",
    "\n",
    "Deploy a gpt-4o-mini model and set the capacity\n"
   ]
  },
  {
   "cell_type": "code",
   "execution_count": 5,
   "metadata": {},
   "outputs": [],
   "source": [
    "load_dotenv()\n",
    "\n",
    "credential = DefaultAzureCredential(authority=AzureAuthorityHosts.AZURE_GOVERNMENT)\n",
    "\n",
    "secret_client = SecretClient(vault_url=os.getenv('KEY_VAULT_URL'), credential=credential)\n",
    "deployment = os.getenv('DEPLOYMENT')\n",
    "endpoint_url = os.getenv('AZURE_OPENAI_ENDPOINT')\n",
    "api_version = os.getenv('API_VERSION')\n",
    "api_key = secret_client.get_secret(os.getenv('SECRET_NAME')).value\n",
    "\n",
    "\n",
    "azure_client = AzureChatOpenAI(\n",
    "                api_key=api_key\n",
    "                ,api_version=api_version\n",
    "                ,azure_endpoint=endpoint_url\n",
    "                ,deployment_name=deployment\n",
    "                ,temperature=0\n",
    "                ,max_tokens=4000\n",
    "                ,model_kwargs={\"response_format\": {\"type\": \"json_object\"}}\n",
    ")"
   ]
  },
  {
   "cell_type": "code",
   "execution_count": 6,
   "metadata": {},
   "outputs": [],
   "source": [
    "doc_prompt = PromptTemplate.from_template(\n",
    "    template = '''\n",
    "\n",
    "Write a poem about {input}.  Return your results in json\n",
    "\n",
    "'''\n",
    ")"
   ]
  },
  {
   "cell_type": "code",
   "execution_count": null,
   "metadata": {},
   "outputs": [],
   "source": [
    "doc_chain = (\n",
    "    doc_prompt\n",
    "    | azure_client\n",
    "    | StrOutputParser()\n",
    ")\n",
    "\n",
    "print(doc_chain.invoke({\"input\": \"unicorns\"}))"
   ]
  },
  {
   "cell_type": "markdown",
   "metadata": {},
   "source": [
    "### Estimate Costs\n",
    "\n",
    "Calculate the estimated costs in the text field of the Symptom2Disease dataset\n"
   ]
  }
 ],
 "metadata": {
  "kernelspec": {
   "display_name": "base",
   "language": "python",
   "name": "python3"
  },
  "language_info": {
   "codemirror_mode": {
    "name": "ipython",
    "version": 3
   },
   "file_extension": ".py",
   "mimetype": "text/x-python",
   "name": "python",
   "nbconvert_exporter": "python",
   "pygments_lexer": "ipython3",
   "version": "3.11.5"
  }
 },
 "nbformat": 4,
 "nbformat_minor": 2
}
